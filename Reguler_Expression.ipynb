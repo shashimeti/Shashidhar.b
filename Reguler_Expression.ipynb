{
 "cells": [
  {
   "cell_type": "code",
   "execution_count": 3,
   "metadata": {},
   "outputs": [],
   "source": [
    "import re"
   ]
  },
  {
   "cell_type": "code",
   "execution_count": 6,
   "metadata": {},
   "outputs": [
    {
     "name": "stdout",
     "output_type": "stream",
     "text": [
      "['langauage', 'langauage']\n"
     ]
    }
   ],
   "source": [
    "#finad all\n",
    "string = (\"Python is a object oriented programming langauage. this langauage was devloped by guido van rossam\")\n",
    "pattern = \"langauage\"\n",
    "re.findall(pattern,string)\n",
    "lst = re.findall(pattern,string)\n",
    "print(lst)"
   ]
  },
  {
   "cell_type": "code",
   "execution_count": 8,
   "metadata": {},
   "outputs": [
    {
     "name": "stdout",
     "output_type": "stream",
     "text": [
      "<re.Match object; span=(40, 49), match='langauage'>\n"
     ]
    }
   ],
   "source": [
    "#search \n",
    "string = (\"Python is a object oriented programming langauage. this langauage was devloped by guido van rossam\")\n",
    "pattern = \"langauage\"\n",
    "re.search(pattern,string)\n",
    "lst = re.search(pattern,string)\n",
    "print(lst)"
   ]
  },
  {
   "cell_type": "code",
   "execution_count": 9,
   "metadata": {},
   "outputs": [
    {
     "name": "stdout",
     "output_type": "stream",
     "text": [
      "['Python is a object oriented programming ', '. this ', ' was devloped by guido van rossam']\n"
     ]
    }
   ],
   "source": [
    "#split \n",
    "string = (\"Python is a object oriented programming langauage. this langauage was devloped by guido van rossam\")\n",
    "pattern = \"langauage\"\n",
    "re.split(pattern,string)\n",
    "lst = re.split(pattern,string)\n",
    "print(lst)"
   ]
  },
  {
   "cell_type": "code",
   "execution_count": 10,
   "metadata": {},
   "outputs": [
    {
     "name": "stdout",
     "output_type": "stream",
     "text": [
      "['Python', 'is', 'a', 'object', 'oriented', 'programming', 'langauage.', 'this', 'langauage', 'was', 'devloped', 'by', 'guido', 'van', 'rossam']\n"
     ]
    }
   ],
   "source": [
    "#split \n",
    "string = (\"Python is a object oriented programming langauage. this langauage was devloped by guido van rossam\")\n",
    "pattern = \" \"\n",
    "re.split(pattern,string)\n",
    "lst = re.split(pattern,string)\n",
    "print(lst)"
   ]
  },
  {
   "cell_type": "code",
   "execution_count": null,
   "metadata": {},
   "outputs": [],
   "source": []
  },
  {
   "cell_type": "code",
   "execution_count": 27,
   "metadata": {},
   "outputs": [
    {
     "name": "stdout",
     "output_type": "stream",
     "text": [
      "Python-is-a-object-oriented-programming-langauage.-this-langauage-was-devloped-by-guido-van-rossam\n"
     ]
    }
   ],
   "source": [
    "#sub \n",
    "string = (\"Python is a object oriented programming langauage. this langauage was devloped by guido van rossam\")\n",
    "pattern = \" \"\n",
    "new_add = \"-\"\n",
    "lst = re.sub(pattern,new_add,string)\n",
    "print(lst)"
   ]
  },
  {
   "cell_type": "code",
   "execution_count": 15,
   "metadata": {},
   "outputs": [
    {
     "name": "stdout",
     "output_type": "stream",
     "text": [
      "['a', 'b', 'e', 'c', 'e', 'e', 'd', 'a', 'a', 'a', 'a', 'e', 'a', 'a', 'a', 'e', 'a', 'd', 'e', 'e', 'd', 'b', 'd', 'a', 'a']\n"
     ]
    }
   ],
   "source": [
    "#Metacharoctor \"[]\"\n",
    "string = (\"Python is a object oriented programming langauage. this langauage was devloped by guido van rossam\")\n",
    "pattern = '[a-f]'\n",
    "lst = re.findall(pattern,string)\n",
    "print(lst)"
   ]
  },
  {
   "cell_type": "code",
   "execution_count": 17,
   "metadata": {},
   "outputs": [
    {
     "name": "stdout",
     "output_type": "stream",
     "text": [
      "['2', '4', '5', '6', '7']\n"
     ]
    }
   ],
   "source": [
    "#Metacharoctor \"\\\"\n",
    "string = (\"Python is a object oriented programming langauage. this langauage was devloped by guido van rossam 24567\")\n",
    "pattern = '\\d'\n",
    "lst = re.findall(pattern,string)\n",
    "print(lst)"
   ]
  },
  {
   "cell_type": "code",
   "execution_count": 34,
   "metadata": {},
   "outputs": [
    {
     "name": "stdout",
     "output_type": "stream",
     "text": [
      "['langau', 'langau', 'loped ']\n"
     ]
    }
   ],
   "source": [
    "#Metacharoctor \".\"\n",
    "string = (\"Python is a object oriented programming langauage. this langauage was devloped by guido van rossam 24567\")\n",
    "pattern = 'l.....'\n",
    "lst = re.findall(pattern,string)\n",
    "print(lst)"
   ]
  },
  {
   "cell_type": "code",
   "execution_count": 22,
   "metadata": {},
   "outputs": [
    {
     "name": "stdout",
     "output_type": "stream",
     "text": [
      "['Python']\n"
     ]
    }
   ],
   "source": [
    "#Metacharoctor \"^\"\n",
    "string = (\"Python is a object oriented programming langauage. this langauage was devloped by guido van rossam 24567\")\n",
    "pattern = '^Python'\n",
    "lst = re.findall(pattern,string)\n",
    "print(lst)"
   ]
  },
  {
   "cell_type": "code",
   "execution_count": 24,
   "metadata": {},
   "outputs": [
    {
     "name": "stdout",
     "output_type": "stream",
     "text": [
      "['456766']\n"
     ]
    }
   ],
   "source": [
    "#Metacharoctor \"\"\n",
    "string = (\"Python is a object oriented programming langauage. this langauage was devloped by guido van rossam 2456766\")\n",
    "pattern = '\\d{6}$'\n",
    "lst = re.findall(pattern,string)\n",
    "print(lst)"
   ]
  },
  {
   "cell_type": "code",
   "execution_count": 25,
   "metadata": {},
   "outputs": [
    {
     "name": "stdout",
     "output_type": "stream",
     "text": [
      "['o', 'i', 'a', 'o', 'e', 'o', 'i', 'e', 'e', 'o', 'a', 'i', 'a', 'a', 'u', 'a', 'e', 'i', 'a', 'a', 'u', 'a', 'e', 'a', 'e', 'o', 'e', 'u', 'i', 'o', 'a', 'o', 'a']\n"
     ]
    }
   ],
   "source": [
    "#Sets\n",
    "string = (\"Python is a object oriented programming langauage. this langauage was devloped by guido van rossam 2456766\")\n",
    "pattern = '[aeiou]'\n",
    "lst = re.findall(pattern,string)\n",
    "print(lst)"
   ]
  }
 ],
 "metadata": {
  "kernelspec": {
   "display_name": "Python 3",
   "language": "python",
   "name": "python3"
  },
  "language_info": {
   "codemirror_mode": {
    "name": "ipython",
    "version": 3
   },
   "file_extension": ".py",
   "mimetype": "text/x-python",
   "name": "python",
   "nbconvert_exporter": "python",
   "pygments_lexer": "ipython3",
   "version": "3.11.5"
  }
 },
 "nbformat": 4,
 "nbformat_minor": 2
}
